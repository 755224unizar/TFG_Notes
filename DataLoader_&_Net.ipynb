{
  "nbformat": 4,
  "nbformat_minor": 0,
  "metadata": {
    "accelerator": "GPU",
    "colab": {
      "name": "DataLoader_&_Net.ipynb",
      "provenance": [],
      "collapsed_sections": [],
      "mount_file_id": "1aDgNujYY4KnOTlxxxv8b4Q6fe8Iv-F-a",
      "authorship_tag": "ABX9TyNHxxJBQCT/N2QOsCXOH0nI",
      "include_colab_link": true
    },
    "kernelspec": {
      "display_name": "Python 3",
      "name": "python3"
    },
    "language_info": {
      "name": "python"
    }
  },
  "cells": [
    {
      "cell_type": "markdown",
      "metadata": {
        "id": "view-in-github",
        "colab_type": "text"
      },
      "source": [
        "<a href=\"https://colab.research.google.com/github/755224unizar/TFG_Notes/blob/main/DataLoader_%26_Net.ipynb\" target=\"_parent\"><img src=\"https://colab.research.google.com/assets/colab-badge.svg\" alt=\"Open In Colab\"/></a>"
      ]
    },
    {
      "cell_type": "code",
      "metadata": {
        "colab": {
          "base_uri": "https://localhost:8080/",
          "height": 298
        },
        "id": "zBnLXZuENEOA",
        "outputId": "3cdcb337-1fe5-4923-e242-03d4306dc288"
      },
      "source": [
        "# DataLoader para imágenes procesadas\n",
        " \n",
        "import matplotlib.pyplot as plt\n",
        "import matplotlib.image as mpimg\n",
        "import numpy as np\n",
        "import torch\n",
        "import scipy.io\n",
        "import torch\n",
        " \n",
        "myfile= '/content/drive/MyDrive/Matrices procesadas/Matrices_A0001.mat' \n",
        "data = scipy.io.loadmat(myfile)\n",
        "X = data['matrices']\n",
        "X = torch.tensor(X, dtype=torch.float32)\n",
        "print(X.shape)\n",
        "plt.imshow(X[:,:,13])\n",
        "plt.axis('tight')"
      ],
      "execution_count": null,
      "outputs": [
        {
          "output_type": "stream",
          "text": [
            "torch.Size([22, 750, 15])\n"
          ],
          "name": "stdout"
        },
        {
          "output_type": "execute_result",
          "data": {
            "text/plain": [
              "(-0.5, 749.5, 21.5, -0.5)"
            ]
          },
          "metadata": {
            "tags": []
          },
          "execution_count": 15
        },
        {
          "output_type": "display_data",
          "data": {
            "image/png": "[encoded data removed]",
            "text/plain": [
              "<Figure size 432x288 with 1 Axes>"
            ]
          },
          "metadata": {
            "tags": []
          }
        }
      ]
    },
    {
      "cell_type": "code",
      "metadata": {
        "colab": {
          "base_uri": "https://localhost:8080/",
          "height": 1000
        },
        "id": "FuzqJHGt4EwC",
        "outputId": "53753512-0d65-4135-ceff-d0c63c0b43ea"
      },
      "source": [
        "# Creamos clase para el dataset\n",
        "import torch\n",
        "import torchvision\n",
        "from torch.utils.data import Dataset, DataLoader\n",
        "import numpy as np\n",
        "import math\n",
        "import scipy.io\n",
        "import os\n",
        "\n",
        "# Estos son los diagnósticos que servían para puntuar en el PhysioNet, pero en el dataset hay mas\n",
        "\n",
        "tabla = {270492004:0, 164889003:1, 164890007:2, 426627000:3, \n",
        "         713427006:4, 713426002:5, 445118002:6, 39732003:7, \n",
        "         164909002:8, 251146004:9, 698252002:10, 10370003:11,\n",
        "         284470004:12, 427172004:13, 164947007:14, 111975006:15,\n",
        "         164917005:16, 47665007:17, 59118001:18, 427393009:19, \n",
        "         426177001:20, 426783006:21, 427084000:22, 63593006:23,\n",
        "         164934002:24, 59931005:25, 17338001:26}\n",
        "\n",
        "# Estos son todos los diagnósticos que pueden aparecer en el dataset\n",
        "\n",
        "tabla_completa = {270492004:0, 195042002:1, 164951009:2, 426664006:3, 57054005:4, 413444003:5,\n",
        "                  426434006:6, 54329005:7, 251173003:8, 164889003:9, 195080001:10, 164890007:11,\n",
        "                  195126007:12, 251268003:13, 713422000:14, 29320008:15, 233917008:16, 251170000:17,\n",
        "                  74615001:18, 426627000:19, 6374002: 20, 698247007:21, 426749004:22, 413844008:23,\n",
        "                  27885002:24, 713427006:25, 204384007:26, 53741008:27, 77867006:28, 82226007:29,\n",
        "                  428417006:30, 13640000:31, 84114007:32, 368009:33, 251259000:34, 49260003:35,\n",
        "                  251120003:36, 713426002:37, 251200008:38, 425419005:39, 704997005:40, 426995002:41,\n",
        "                  251164006:42, 426648003:43, 425623009:44, 445118002:45, 253352002:46, 67741000119109:47,\n",
        "                  446813000:48, 39732003:49, 164909002:50, 445211001:51, 164873001:52, 370365005:53,\n",
        "                  251146004:54, 54016002:55, 164865005:56, 164861001:57, 698252002:58, 428750005:59,\n",
        "                  164867002:60, 10370003:61, 251182009:62, 282825002:63, 67198005:64, 425856008:65,\n",
        "                  284470004:66, 427172004:67, 17338001:68, 164947007:69, 111975006:70, 164917005:71,\n",
        "                  164921003:72, 314208002:73, 253339007:74, 446358003:75, 47665007:76, 59118001:77,\n",
        "                  89792004:78, 55930002:79, 49578007:80, 65778007:81, 427393009:82, 426177001:83,\n",
        "                  60423000:84, 426783006:85, 427084000:86, 429622005:87, 164931005:88, 164930006:89,\n",
        "                  251168009:90, 63593006:91, 426761007:92, 251139008:93, 164934002:94, 59931005:95,\n",
        "                  266257000:96, 164937009:97, 11157007:98, 164884008:99, 75532003:100, 81898007:101,\n",
        "                  164896001:102, 111288001:103, 266249003:104, 251266004:105, 195060002:106, 164895002:107,\n",
        "                  251180001:108, 195101003:109, 74390002:110}\n",
        "\n",
        "def convertCatToLabel(y):\n",
        "  labels = np.zeros((1, 111), dtype=np.int64)\n",
        "  for i in range(y.shape[1]):\n",
        "    labels[0,tabla_completa[int(y[0,i])]]=1\n",
        "  return labels\n",
        "\n",
        "class ECG_Dataset(Dataset):\n",
        "\n",
        "  def __init__(self):\n",
        "    # data loading\n",
        "    path = '/content/drive/MyDrive/TFG/Tensores_procesados'\n",
        "    # Generamos lista iterable de ficheros\n",
        "    files = []\n",
        "    with open('/content/drive/MyDrive/TFG/Tensores_procesados/NombresFicheros.txt', 'r') as texto:\n",
        "      lines = texto.readlines()\n",
        "      for l in lines:\n",
        "        as_list = l.split(\"\\n\")\n",
        "        files.append(as_list[0])\n",
        "        \n",
        "      print(files)\n",
        "    \n",
        "    x_list = []\n",
        "    y_list = []\n",
        "    \n",
        "    \n",
        "    for file in files:         # Recorro los ficheros almacenando los tensores y las etiquetas\n",
        "      xy = scipy.io.loadmat(path+'/'+file)\n",
        "      print(file)\n",
        "      matrices = xy['tensor']\n",
        "      diagnostico = (xy['diagnostico'])\n",
        "      x_list.append(matrices)        \n",
        "      y_list.append(convertCatToLabel(diagnostico))\n",
        "      \n",
        "    self.x = x_list\n",
        "    self.y = y_list\n",
        "    self.n_samples = len(x_list)\n",
        "    \n",
        "\n",
        "  def __getitem__(self, index):\n",
        "    return self.x[index] , self.y[index]\n",
        "\n",
        "  def __len__(self):\n",
        "    return self.n_samples\n",
        "\n",
        "\n",
        "dataset = ECG_Dataset()\n",
        "dataloader = DataLoader(dataset=dataset, batch_size=4, shuffle=True, num_workers=2)\n",
        "\n",
        "dataIterator = iter(dataloader)\n",
        "data = dataIterator.next()    # De momento falla porque los tensores no son de la mismas dimensiones\n",
        "x, y = data\n",
        "print(features, labels)\n",
        "\n",
        "\n",
        "\n",
        "\n",
        "\n"
      ],
      "execution_count": null,
      "outputs": [
        {
          "output_type": "stream",
          "text": [
            "['Matrices_A0001.mat', 'Matrices_A0002.mat', 'Matrices_A0003.mat', 'Matrices_A0004.mat', 'Matrices_A0005.mat', 'Matrices_A0006.mat', 'Matrices_A0007.mat', 'Matrices_A0008.mat', 'Matrices_A0009.mat', 'Matrices_A0010.mat', 'Matrices_A0011.mat', 'Matrices_A0012.mat', 'Matrices_A0013.mat', 'Matrices_A0014.mat', 'Matrices_A0015.mat', 'Matrices_A0016.mat', 'Matrices_A0017.mat', 'Matrices_A0018.mat', 'Matrices_A0019.mat', 'Matrices_A0020.mat', 'Matrices_A0021.mat', 'Matrices_A0022.mat', 'Matrices_A0023.mat', 'Matrices_A0024.mat', 'Matrices_A0025.mat', 'Matrices_A0026.mat', 'Matrices_A0027.mat', 'Matrices_A0028.mat', 'Matrices_A0029.mat', 'Matrices_A0030.mat', 'Matrices_A0031.mat', 'Matrices_A0032.mat', 'Matrices_A0033.mat', 'Matrices_A0034.mat', 'Matrices_A0035.mat', 'Matrices_A0036.mat', 'Matrices_A0037.mat', 'Matrices_A0038.mat', 'Matrices_A0039.mat', 'Matrices_A0040.mat', 'Matrices_A0041.mat', 'Matrices_A0042.mat', 'Matrices_A0043.mat', 'Matrices_A0044.mat', 'Matrices_A0045.mat', 'Matrices_A0046.mat', 'Matrices_A0047.mat', 'Matrices_A0048.mat', 'Matrices_A0049.mat', 'Matrices_A0050.mat', 'Matrices_A0051.mat', 'Matrices_A0052.mat', 'Matrices_A0053.mat', 'Matrices_A0054.mat', 'Matrices_A0055.mat', 'Matrices_A0056.mat', 'Matrices_A0057.mat', 'Matrices_A0058.mat', 'Matrices_A0059.mat', 'Matrices_A0060.mat', 'Matrices_A0062.mat', 'Matrices_A0063.mat', 'Matrices_A0064.mat', 'Matrices_A0065.mat', 'Matrices_A0066.mat', 'Matrices_A0067.mat', 'Matrices_A0068.mat', 'Matrices_A0069.mat', 'Matrices_A0070.mat', 'Matrices_A0071.mat', 'Matrices_A0072.mat', 'Matrices_A0073.mat', 'Matrices_A0074.mat', 'Matrices_A0075.mat', 'Matrices_A0076.mat', 'Matrices_A0077.mat', 'Matrices_A0078.mat', 'Matrices_A0079.mat', 'Matrices_A0080.mat', 'Matrices_A0081.mat', 'Matrices_A0082.mat', 'Matrices_A0083.mat', 'Matrices_A0084.mat', 'Matrices_A0085.mat', 'Matrices_A0086.mat', 'Matrices_A0087.mat', 'Matrices_A0088.mat', 'Matrices_A0089.mat', 'Matrices_A0090.mat', 'Matrices_A0091.mat', 'Matrices_A0092.mat', 'Matrices_A0093.mat', 'Matrices_A0094.mat', 'Matrices_A0095.mat', 'Matrices_A0096.mat', 'Matrices_A0097.mat', 'Matrices_A0098.mat', 'Matrices_A0099.mat', 'Matrices_A0100.mat']\n",
            "Matrices_A0001.mat\n",
            "Matrices_A0002.mat\n",
            "Matrices_A0003.mat\n",
            "Matrices_A0004.mat\n",
            "Matrices_A0005.mat\n",
            "Matrices_A0006.mat\n",
            "Matrices_A0007.mat\n",
            "Matrices_A0008.mat\n",
            "Matrices_A0009.mat\n",
            "Matrices_A0010.mat\n",
            "Matrices_A0011.mat\n",
            "Matrices_A0012.mat\n",
            "Matrices_A0013.mat\n",
            "Matrices_A0014.mat\n",
            "Matrices_A0015.mat\n",
            "Matrices_A0016.mat\n",
            "Matrices_A0017.mat\n",
            "Matrices_A0018.mat\n",
            "Matrices_A0019.mat\n",
            "Matrices_A0020.mat\n",
            "Matrices_A0021.mat\n",
            "Matrices_A0022.mat\n",
            "Matrices_A0023.mat\n",
            "Matrices_A0024.mat\n",
            "Matrices_A0025.mat\n",
            "Matrices_A0026.mat\n",
            "Matrices_A0027.mat\n",
            "Matrices_A0028.mat\n",
            "Matrices_A0029.mat\n",
            "Matrices_A0030.mat\n",
            "Matrices_A0031.mat\n",
            "Matrices_A0032.mat\n",
            "Matrices_A0033.mat\n",
            "Matrices_A0034.mat\n",
            "Matrices_A0035.mat\n",
            "Matrices_A0036.mat\n",
            "Matrices_A0037.mat\n",
            "Matrices_A0038.mat\n",
            "Matrices_A0039.mat\n",
            "Matrices_A0040.mat\n",
            "Matrices_A0041.mat\n",
            "Matrices_A0042.mat\n",
            "Matrices_A0043.mat\n",
            "Matrices_A0044.mat\n",
            "Matrices_A0045.mat\n",
            "Matrices_A0046.mat\n",
            "Matrices_A0047.mat\n",
            "Matrices_A0048.mat\n",
            "Matrices_A0049.mat\n",
            "Matrices_A0050.mat\n",
            "Matrices_A0051.mat\n",
            "Matrices_A0052.mat\n",
            "Matrices_A0053.mat\n",
            "Matrices_A0054.mat\n",
            "Matrices_A0055.mat\n",
            "Matrices_A0056.mat\n",
            "Matrices_A0057.mat\n",
            "Matrices_A0058.mat\n",
            "Matrices_A0059.mat\n",
            "Matrices_A0060.mat\n",
            "Matrices_A0062.mat\n",
            "Matrices_A0063.mat\n",
            "Matrices_A0064.mat\n",
            "Matrices_A0065.mat\n",
            "Matrices_A0066.mat\n",
            "Matrices_A0067.mat\n",
            "Matrices_A0068.mat\n",
            "Matrices_A0069.mat\n",
            "Matrices_A0070.mat\n",
            "Matrices_A0071.mat\n",
            "Matrices_A0072.mat\n",
            "Matrices_A0073.mat\n",
            "Matrices_A0074.mat\n",
            "Matrices_A0075.mat\n",
            "Matrices_A0076.mat\n",
            "Matrices_A0077.mat\n",
            "Matrices_A0078.mat\n",
            "Matrices_A0079.mat\n",
            "Matrices_A0080.mat\n",
            "Matrices_A0081.mat\n",
            "Matrices_A0082.mat\n",
            "Matrices_A0083.mat\n",
            "Matrices_A0084.mat\n",
            "Matrices_A0085.mat\n",
            "Matrices_A0086.mat\n",
            "Matrices_A0087.mat\n",
            "Matrices_A0088.mat\n",
            "Matrices_A0089.mat\n",
            "Matrices_A0090.mat\n",
            "Matrices_A0091.mat\n",
            "Matrices_A0092.mat\n",
            "Matrices_A0093.mat\n",
            "Matrices_A0094.mat\n",
            "Matrices_A0095.mat\n",
            "Matrices_A0096.mat\n",
            "Matrices_A0097.mat\n",
            "Matrices_A0098.mat\n",
            "Matrices_A0099.mat\n",
            "Matrices_A0100.mat\n"
          ],
          "name": "stdout"
        },
        {
          "output_type": "error",
          "ename": "RuntimeError",
          "evalue": "ignored",
          "traceback": [
            "\u001b[0;31m---------------------------------------------------------------------------\u001b[0m",
            "\u001b[0;31mRuntimeError\u001b[0m                              Traceback (most recent call last)",
            "\u001b[0;32m<ipython-input-2-d34f32c9eb9b>\u001b[0m in \u001b[0;36m<module>\u001b[0;34m()\u001b[0m\n\u001b[1;32m     89\u001b[0m \u001b[0;34m\u001b[0m\u001b[0m\n\u001b[1;32m     90\u001b[0m \u001b[0mdataIterator\u001b[0m \u001b[0;34m=\u001b[0m \u001b[0miter\u001b[0m\u001b[0;34m(\u001b[0m\u001b[0mdataloader\u001b[0m\u001b[0;34m)\u001b[0m\u001b[0;34m\u001b[0m\u001b[0;34m\u001b[0m\u001b[0m\n\u001b[0;32m---> 91\u001b[0;31m \u001b[0mdata\u001b[0m \u001b[0;34m=\u001b[0m \u001b[0mdataIterator\u001b[0m\u001b[0;34m.\u001b[0m\u001b[0mnext\u001b[0m\u001b[0;34m(\u001b[0m\u001b[0;34m)\u001b[0m    \u001b[0;31m# De momento falla porque los tensores no son de la mismas dimensiones\u001b[0m\u001b[0;34m\u001b[0m\u001b[0;34m\u001b[0m\u001b[0m\n\u001b[0m\u001b[1;32m     92\u001b[0m \u001b[0mx\u001b[0m\u001b[0;34m,\u001b[0m \u001b[0my\u001b[0m \u001b[0;34m=\u001b[0m \u001b[0mdata\u001b[0m\u001b[0;34m\u001b[0m\u001b[0;34m\u001b[0m\u001b[0m\n\u001b[1;32m     93\u001b[0m \u001b[0mprint\u001b[0m\u001b[0;34m(\u001b[0m\u001b[0mfeatures\u001b[0m\u001b[0;34m,\u001b[0m \u001b[0mlabels\u001b[0m\u001b[0;34m)\u001b[0m\u001b[0;34m\u001b[0m\u001b[0;34m\u001b[0m\u001b[0m\n",
            "\u001b[0;32m/usr/local/lib/python3.7/dist-packages/torch/utils/data/dataloader.py\u001b[0m in \u001b[0;36m__next__\u001b[0;34m(self)\u001b[0m\n\u001b[1;32m    515\u001b[0m             \u001b[0;32mif\u001b[0m \u001b[0mself\u001b[0m\u001b[0;34m.\u001b[0m\u001b[0m_sampler_iter\u001b[0m \u001b[0;32mis\u001b[0m \u001b[0;32mNone\u001b[0m\u001b[0;34m:\u001b[0m\u001b[0;34m\u001b[0m\u001b[0;34m\u001b[0m\u001b[0m\n\u001b[1;32m    516\u001b[0m                 \u001b[0mself\u001b[0m\u001b[0;34m.\u001b[0m\u001b[0m_reset\u001b[0m\u001b[0;34m(\u001b[0m\u001b[0;34m)\u001b[0m\u001b[0;34m\u001b[0m\u001b[0;34m\u001b[0m\u001b[0m\n\u001b[0;32m--> 517\u001b[0;31m             \u001b[0mdata\u001b[0m \u001b[0;34m=\u001b[0m \u001b[0mself\u001b[0m\u001b[0;34m.\u001b[0m\u001b[0m_next_data\u001b[0m\u001b[0;34m(\u001b[0m\u001b[0;34m)\u001b[0m\u001b[0;34m\u001b[0m\u001b[0;34m\u001b[0m\u001b[0m\n\u001b[0m\u001b[1;32m    518\u001b[0m             \u001b[0mself\u001b[0m\u001b[0;34m.\u001b[0m\u001b[0m_num_yielded\u001b[0m \u001b[0;34m+=\u001b[0m \u001b[0;36m1\u001b[0m\u001b[0;34m\u001b[0m\u001b[0;34m\u001b[0m\u001b[0m\n\u001b[1;32m    519\u001b[0m             \u001b[0;32mif\u001b[0m \u001b[0mself\u001b[0m\u001b[0;34m.\u001b[0m\u001b[0m_dataset_kind\u001b[0m \u001b[0;34m==\u001b[0m \u001b[0m_DatasetKind\u001b[0m\u001b[0;34m.\u001b[0m\u001b[0mIterable\u001b[0m \u001b[0;32mand\u001b[0m\u001b[0;31m \u001b[0m\u001b[0;31m\\\u001b[0m\u001b[0;34m\u001b[0m\u001b[0;34m\u001b[0m\u001b[0m\n",
            "\u001b[0;32m/usr/local/lib/python3.7/dist-packages/torch/utils/data/dataloader.py\u001b[0m in \u001b[0;36m_next_data\u001b[0;34m(self)\u001b[0m\n\u001b[1;32m   1197\u001b[0m             \u001b[0;32melse\u001b[0m\u001b[0;34m:\u001b[0m\u001b[0;34m\u001b[0m\u001b[0;34m\u001b[0m\u001b[0m\n\u001b[1;32m   1198\u001b[0m                 \u001b[0;32mdel\u001b[0m \u001b[0mself\u001b[0m\u001b[0;34m.\u001b[0m\u001b[0m_task_info\u001b[0m\u001b[0;34m[\u001b[0m\u001b[0midx\u001b[0m\u001b[0;34m]\u001b[0m\u001b[0;34m\u001b[0m\u001b[0;34m\u001b[0m\u001b[0m\n\u001b[0;32m-> 1199\u001b[0;31m                 \u001b[0;32mreturn\u001b[0m \u001b[0mself\u001b[0m\u001b[0;34m.\u001b[0m\u001b[0m_process_data\u001b[0m\u001b[0;34m(\u001b[0m\u001b[0mdata\u001b[0m\u001b[0;34m)\u001b[0m\u001b[0;34m\u001b[0m\u001b[0;34m\u001b[0m\u001b[0m\n\u001b[0m\u001b[1;32m   1200\u001b[0m \u001b[0;34m\u001b[0m\u001b[0m\n\u001b[1;32m   1201\u001b[0m     \u001b[0;32mdef\u001b[0m \u001b[0m_try_put_index\u001b[0m\u001b[0;34m(\u001b[0m\u001b[0mself\u001b[0m\u001b[0;34m)\u001b[0m\u001b[0;34m:\u001b[0m\u001b[0;34m\u001b[0m\u001b[0;34m\u001b[0m\u001b[0m\n",
            "\u001b[0;32m/usr/local/lib/python3.7/dist-packages/torch/utils/data/dataloader.py\u001b[0m in \u001b[0;36m_process_data\u001b[0;34m(self, data)\u001b[0m\n\u001b[1;32m   1223\u001b[0m         \u001b[0mself\u001b[0m\u001b[0;34m.\u001b[0m\u001b[0m_try_put_index\u001b[0m\u001b[0;34m(\u001b[0m\u001b[0;34m)\u001b[0m\u001b[0;34m\u001b[0m\u001b[0;34m\u001b[0m\u001b[0m\n\u001b[1;32m   1224\u001b[0m         \u001b[0;32mif\u001b[0m \u001b[0misinstance\u001b[0m\u001b[0;34m(\u001b[0m\u001b[0mdata\u001b[0m\u001b[0;34m,\u001b[0m \u001b[0mExceptionWrapper\u001b[0m\u001b[0;34m)\u001b[0m\u001b[0;34m:\u001b[0m\u001b[0;34m\u001b[0m\u001b[0;34m\u001b[0m\u001b[0m\n\u001b[0;32m-> 1225\u001b[0;31m             \u001b[0mdata\u001b[0m\u001b[0;34m.\u001b[0m\u001b[0mreraise\u001b[0m\u001b[0;34m(\u001b[0m\u001b[0;34m)\u001b[0m\u001b[0;34m\u001b[0m\u001b[0;34m\u001b[0m\u001b[0m\n\u001b[0m\u001b[1;32m   1226\u001b[0m         \u001b[0;32mreturn\u001b[0m \u001b[0mdata\u001b[0m\u001b[0;34m\u001b[0m\u001b[0;34m\u001b[0m\u001b[0m\n\u001b[1;32m   1227\u001b[0m \u001b[0;34m\u001b[0m\u001b[0m\n",
            "\u001b[0;32m/usr/local/lib/python3.7/dist-packages/torch/_utils.py\u001b[0m in \u001b[0;36mreraise\u001b[0;34m(self)\u001b[0m\n\u001b[1;32m    427\u001b[0m             \u001b[0;31m# have message field\u001b[0m\u001b[0;34m\u001b[0m\u001b[0;34m\u001b[0m\u001b[0;34m\u001b[0m\u001b[0m\n\u001b[1;32m    428\u001b[0m             \u001b[0;32mraise\u001b[0m \u001b[0mself\u001b[0m\u001b[0;34m.\u001b[0m\u001b[0mexc_type\u001b[0m\u001b[0;34m(\u001b[0m\u001b[0mmessage\u001b[0m\u001b[0;34m=\u001b[0m\u001b[0mmsg\u001b[0m\u001b[0;34m)\u001b[0m\u001b[0;34m\u001b[0m\u001b[0;34m\u001b[0m\u001b[0m\n\u001b[0;32m--> 429\u001b[0;31m         \u001b[0;32mraise\u001b[0m \u001b[0mself\u001b[0m\u001b[0;34m.\u001b[0m\u001b[0mexc_type\u001b[0m\u001b[0;34m(\u001b[0m\u001b[0mmsg\u001b[0m\u001b[0;34m)\u001b[0m\u001b[0;34m\u001b[0m\u001b[0;34m\u001b[0m\u001b[0m\n\u001b[0m\u001b[1;32m    430\u001b[0m \u001b[0;34m\u001b[0m\u001b[0m\n\u001b[1;32m    431\u001b[0m \u001b[0;34m\u001b[0m\u001b[0m\n",
            "\u001b[0;31mRuntimeError\u001b[0m: Caught RuntimeError in DataLoader worker process 0.\nOriginal Traceback (most recent call last):\n  File \"/usr/local/lib/python3.7/dist-packages/torch/utils/data/_utils/worker.py\", line 202, in _worker_loop\n    data = fetcher.fetch(index)\n  File \"/usr/local/lib/python3.7/dist-packages/torch/utils/data/_utils/fetch.py\", line 47, in fetch\n    return self.collate_fn(data)\n  File \"/usr/local/lib/python3.7/dist-packages/torch/utils/data/_utils/collate.py\", line 83, in default_collate\n    return [default_collate(samples) for samples in transposed]\n  File \"/usr/local/lib/python3.7/dist-packages/torch/utils/data/_utils/collate.py\", line 83, in <listcomp>\n    return [default_collate(samples) for samples in transposed]\n  File \"/usr/local/lib/python3.7/dist-packages/torch/utils/data/_utils/collate.py\", line 63, in default_collate\n    return default_collate([torch.as_tensor(b) for b in batch])\n  File \"/usr/local/lib/python3.7/dist-packages/torch/utils/data/_utils/collate.py\", line 55, in default_collate\n    return torch.stack(batch, 0, out=out)\nRuntimeError: stack expects each tensor to be equal size, but got [15, 16, 750] at entry 0 and [15, 44, 750] at entry 1\n"
          ]
        }
      ]
    },
    {
      "cell_type": "code",
      "metadata": {
        "colab": {
          "base_uri": "https://localhost:8080/",
          "height": 402
        },
        "id": "8msvMD58bI31",
        "outputId": "bd691891-07f4-4d59-ff79-061edf36d8e0"
      },
      "source": [
        "# Versión tomando un numero fijo y de ventanas temporales por muestra\n",
        "\n",
        "import torch\n",
        "import torchvision\n",
        "from torch.utils.data import Dataset, DataLoader\n",
        "import numpy as np\n",
        "import math\n",
        "import scipy.io\n",
        "import os\n",
        "import math\n",
        "import matplotlib.pyplot as plt\n",
        "\n",
        "# Estos son los diagnósticos que servían para puntuar en el PhysioNet, pero en el dataset hay mas\n",
        "\n",
        "tabla = {270492004:0, 164889003:1, 164890007:2, 426627000:3, \n",
        "         713427006:4, 713426002:5, 445118002:6, 39732003:7, \n",
        "         164909002:8, 251146004:9, 698252002:10, 10370003:11,\n",
        "         284470004:12, 427172004:13, 164947007:14, 111975006:15,\n",
        "         164917005:16, 47665007:17, 59118001:18, 427393009:19, \n",
        "         426177001:20, 426783006:21, 427084000:22, 63593006:23,\n",
        "         164934002:24, 59931005:25, 17338001:26}\n",
        "\n",
        "# Estos son todos los diagnósticos que pueden aparecer en el dataset\n",
        "\n",
        "tabla_completa = {270492004:0, 195042002:1, 164951009:2, 426664006:3, 57054005:4, 413444003:5,\n",
        "                  426434006:6, 54329005:7, 251173003:8, 164889003:9, 195080001:10, 164890007:11,\n",
        "                  195126007:12, 251268003:13, 713422000:14, 29320008:15, 233917008:16, 251170000:17,\n",
        "                  74615001:18, 426627000:19, 6374002: 20, 698247007:21, 426749004:22, 413844008:23,\n",
        "                  27885002:24, 713427006:25, 204384007:26, 53741008:27, 77867006:28, 82226007:29,\n",
        "                  428417006:30, 13640000:31, 84114007:32, 368009:33, 251259000:34, 49260003:35,\n",
        "                  251120003:36, 713426002:37, 251200008:38, 425419005:39, 704997005:40, 426995002:41,\n",
        "                  251164006:42, 426648003:43, 425623009:44, 445118002:45, 253352002:46, 67741000119109:47,\n",
        "                  446813000:48, 39732003:49, 164909002:50, 445211001:51, 164873001:52, 370365005:53,\n",
        "                  251146004:54, 54016002:55, 164865005:56, 164861001:57, 698252002:58, 428750005:59,\n",
        "                  164867002:60, 10370003:61, 251182009:62, 282825002:63, 67198005:64, 425856008:65,\n",
        "                  284470004:66, 427172004:67, 17338001:68, 164947007:69, 111975006:70, 164917005:71,\n",
        "                  164921003:72, 314208002:73, 253339007:74, 446358003:75, 47665007:76, 59118001:77,\n",
        "                  89792004:78, 55930002:79, 49578007:80, 65778007:81, 427393009:82, 426177001:83,\n",
        "                  60423000:84, 426783006:85, 427084000:86, 429622005:87, 164931005:88, 164930006:89,\n",
        "                  251168009:90, 63593006:91, 426761007:92, 251139008:93, 164934002:94, 59931005:95,\n",
        "                  266257000:96, 164937009:97, 11157007:98, 164884008:99, 75532003:100, 81898007:101,\n",
        "                  164896001:102, 111288001:103, 266249003:104, 251266004:105, 195060002:106, 164895002:107,\n",
        "                  251180001:108, 195101003:109, 74390002:110}\n",
        "\n",
        "def convertCatToLabel(y):\n",
        "  labels = np.zeros((1, 111), dtype=np.int64)\n",
        "  for i in range(y.shape[1]):\n",
        "    labels[0,tabla_completa[int(y[0,i])]]=1\n",
        "  return labels\n",
        "\n",
        "\n",
        "class ECG_Dataset_same(Dataset):\n",
        "\n",
        "  def __init__(self):\n",
        "    # data loading\n",
        "    path = '/content/drive/MyDrive/TFG/Tensores_procesados'\n",
        "    # Generamos lista iterable de ficheros\n",
        "    files = []\n",
        "    with open('/content/drive/MyDrive/TFG/Tensores_procesados/NombresFicheros.txt', 'r') as texto:\n",
        "      lines = texto.readlines()\n",
        "      for l in lines:\n",
        "        as_list = l.split(\"\\n\")\n",
        "        files.append(as_list[0])\n",
        "        \n",
        "      print(files)\n",
        "    \n",
        "    x_list = []\n",
        "    y_list = []\n",
        "    \n",
        "    \n",
        "    for file in files:         # Recorro los ficheros almacenando los tensores y las etiquetas\n",
        "      xy = scipy.io.loadmat(path+'/'+file)\n",
        "      #print(file)\n",
        "      matrices = xy['tensor']\n",
        "      diagnostico = (xy['diagnostico'])\n",
        "      #print(matrices.shape, matrices[:,0:2,:].shape)\n",
        "     \n",
        "      x_list.append(matrices)        \n",
        "      y_list.append(convertCatToLabel(diagnostico))\n",
        "      \n",
        "    self.x = x_list\n",
        "    self.y = y_list\n",
        "    self.n_samples = len(x_list)\n",
        "    \n",
        "\n",
        "  def __getitem__(self, index):\n",
        "    n = 10;                               # numero de ventanas temporales a tomar\n",
        "    x_n = self.x[index]\n",
        "    t = x_n.shape[1]\n",
        "    \n",
        "    rep = (n/t)\n",
        "    #print(t, rep)\n",
        "    \n",
        "    if rep<=1:                            # Si tengo suficientes ventanas las cojo\n",
        "      if n==t:\n",
        "        ind= 0\n",
        "      else:\n",
        "        ind = np.random.randint(0, t-n)\n",
        "      \n",
        "      #print(\"Cojo tramo de \"+str(ind)+\" hasta \"+str(ind+n))\n",
        "      return x_n[:, ind:ind+n, :], self.y[index]\n",
        "\n",
        "    else:                                 # Si no hay suficientes tengo que concatenar datos repetidos\n",
        "      #print(\"Hay que concatenar\")\n",
        "      res = x_n\n",
        "      #print(\"Tamaño inicial: \"+ str(res.shape[1]))\n",
        "      while (res.shape[1]<n):\n",
        "        #print(\"Entro al while\")\n",
        "        res = np.concatenate((x_n, res), axis=1)\n",
        "        #print(\"NUEVO Tamaño tensor: \"+ str(res.shape[1]))\n",
        "      #print(res.shape)\n",
        "      ind = np.random.randint(0, res.shape[1]-n)\n",
        "      return res[:, ind:ind+n,:] , self.y[index]\n",
        "\n",
        "\n",
        "    \n",
        "\n",
        "  def __len__(self):\n",
        "    return self.n_samples\n",
        "\n",
        "\n",
        "dataset = ECG_Dataset_same()\n",
        "dataloader = DataLoader(dataset=dataset, batch_size=4, shuffle=True, num_workers=2)\n",
        "\n",
        "dataIterator = iter(dataloader)\n",
        "data = dataIterator.next()    \n",
        "features, labels = data\n",
        "print(features.shape, labels.shape)\n",
        "fig = plt.figure(figsize=(10, 4))\n",
        "fig.add_subplot(1, 2, 1)\n",
        "plt.imshow(features[0,0,:,:])\n",
        "plt.axis(\"tight\")\n",
        "fig.add_subplot(1,2,2)\n",
        "plt.imshow(features[0,12,:,:])\n",
        "plt.axis(\"tight\")\n",
        "print(labels[0,0,:])\n"
      ],
      "execution_count": null,
      "outputs": [
        {
          "output_type": "stream",
          "text": [
            "['Matrices_A0001.mat', 'Matrices_A0002.mat', 'Matrices_A0003.mat', 'Matrices_A0004.mat', 'Matrices_A0005.mat', 'Matrices_A0006.mat', 'Matrices_A0007.mat', 'Matrices_A0008.mat', 'Matrices_A0009.mat', 'Matrices_A0010.mat', 'Matrices_A0011.mat', 'Matrices_A0012.mat', 'Matrices_A0013.mat', 'Matrices_A0014.mat', 'Matrices_A0015.mat', 'Matrices_A0016.mat', 'Matrices_A0017.mat', 'Matrices_A0018.mat', 'Matrices_A0019.mat', 'Matrices_A0020.mat', 'Matrices_A0021.mat', 'Matrices_A0022.mat', 'Matrices_A0023.mat', 'Matrices_A0024.mat', 'Matrices_A0025.mat', 'Matrices_A0026.mat', 'Matrices_A0027.mat', 'Matrices_A0028.mat', 'Matrices_A0029.mat', 'Matrices_A0030.mat', 'Matrices_A0031.mat', 'Matrices_A0032.mat', 'Matrices_A0033.mat', 'Matrices_A0034.mat', 'Matrices_A0035.mat', 'Matrices_A0036.mat', 'Matrices_A0037.mat', 'Matrices_A0038.mat', 'Matrices_A0039.mat', 'Matrices_A0040.mat', 'Matrices_A0041.mat', 'Matrices_A0042.mat', 'Matrices_A0043.mat', 'Matrices_A0044.mat', 'Matrices_A0045.mat', 'Matrices_A0046.mat', 'Matrices_A0047.mat', 'Matrices_A0048.mat', 'Matrices_A0049.mat', 'Matrices_A0050.mat', 'Matrices_A0051.mat', 'Matrices_A0052.mat', 'Matrices_A0053.mat', 'Matrices_A0054.mat', 'Matrices_A0055.mat', 'Matrices_A0056.mat', 'Matrices_A0057.mat', 'Matrices_A0058.mat', 'Matrices_A0059.mat', 'Matrices_A0060.mat', 'Matrices_A0062.mat', 'Matrices_A0063.mat', 'Matrices_A0064.mat', 'Matrices_A0065.mat', 'Matrices_A0066.mat', 'Matrices_A0067.mat', 'Matrices_A0068.mat', 'Matrices_A0069.mat', 'Matrices_A0070.mat', 'Matrices_A0071.mat', 'Matrices_A0072.mat', 'Matrices_A0073.mat', 'Matrices_A0074.mat', 'Matrices_A0075.mat', 'Matrices_A0076.mat', 'Matrices_A0077.mat', 'Matrices_A0078.mat', 'Matrices_A0079.mat', 'Matrices_A0080.mat', 'Matrices_A0081.mat', 'Matrices_A0082.mat', 'Matrices_A0083.mat', 'Matrices_A0084.mat', 'Matrices_A0085.mat', 'Matrices_A0086.mat', 'Matrices_A0087.mat', 'Matrices_A0088.mat', 'Matrices_A0089.mat', 'Matrices_A0090.mat', 'Matrices_A0091.mat', 'Matrices_A0092.mat', 'Matrices_A0093.mat', 'Matrices_A0094.mat', 'Matrices_A0095.mat', 'Matrices_A0096.mat', 'Matrices_A0097.mat', 'Matrices_A0098.mat', 'Matrices_A0099.mat', 'Matrices_A0100.mat']\n",
            "torch.Size([4, 15, 10, 750]) torch.Size([4, 1, 111])\n",
            "tensor([0, 0, 0, 0, 0, 0, 0, 0, 0, 0, 0, 0, 0, 0, 0, 0, 0, 0, 0, 0, 0, 0, 0, 0,\n",
            "        0, 0, 0, 0, 0, 0, 0, 0, 0, 0, 0, 0, 0, 0, 0, 0, 0, 0, 0, 0, 0, 0, 0, 0,\n",
            "        0, 0, 0, 0, 0, 0, 0, 0, 0, 0, 0, 0, 0, 0, 0, 0, 0, 0, 0, 0, 0, 0, 0, 0,\n",
            "        0, 0, 0, 0, 0, 1, 0, 0, 0, 0, 0, 0, 0, 0, 0, 0, 0, 0, 0, 0, 0, 0, 0, 0,\n",
            "        0, 0, 0, 0, 0, 0, 0, 0, 0, 0, 0, 0, 0, 0, 0])\n"
          ],
          "name": "stdout"
        },
        {
          "output_type": "display_data",
          "data": {
            "image/png": "[encoded data removed]",
            "text/plain": [
              "<Figure size 720x288 with 2 Axes>"
            ]
          },
          "metadata": {
            "tags": []
          }
        }
      ]
    },
    {
      "cell_type": "code",
      "metadata": {
        "colab": {
          "base_uri": "https://localhost:8080/",
          "height": 315
        },
        "id": "iM2PJGb-tUFd",
        "outputId": "da82fa6c-6e2f-4fa0-cb23-e8725b82534d"
      },
      "source": [
        "# Versión que carga los ficheros segun se piden y sigue tomando un numero fijo de ventanas temporales\n",
        " \n",
        "import torch\n",
        "import torchvision\n",
        "from torch.utils.data import Dataset, DataLoader\n",
        "import numpy as np\n",
        "import math\n",
        "import scipy.io\n",
        "import os\n",
        "import math\n",
        "import matplotlib.pyplot as plt\n",
        " \n",
        "# Estos son los diagnósticos que servían para puntuar en el PhysioNet, pero en el dataset hay mas\n",
        " \n",
        "tabla = {270492004:0, 164889003:1, 164890007:2, 426627000:3, \n",
        "         713427006:4, 713426002:5, 445118002:6, 39732003:7, \n",
        "         164909002:8, 251146004:9, 698252002:10, 10370003:11,\n",
        "         284470004:12, 427172004:13, 164947007:14, 111975006:15,\n",
        "         164917005:16, 47665007:17, 59118001:18, 427393009:19, \n",
        "         426177001:20, 426783006:21, 427084000:22, 63593006:23,\n",
        "         164934002:24, 59931005:25, 17338001:26}\n",
        " \n",
        "# Estos son todos los diagnósticos que pueden aparecer en el dataset\n",
        " \n",
        "tabla_completa = {270492004:0, 195042002:1, 164951009:2, 426664006:3, 57054005:4, 413444003:5,\n",
        "                  426434006:6, 54329005:7, 251173003:8, 164889003:9, 195080001:10, 164890007:11,\n",
        "                  195126007:12, 251268003:13, 713422000:14, 29320008:15, 233917008:16, 251170000:17,\n",
        "                  74615001:18, 426627000:19, 6374002: 20, 698247007:21, 426749004:22, 413844008:23,\n",
        "                  27885002:24, 713427006:25, 204384007:26, 53741008:27, 77867006:28, 82226007:29,\n",
        "                  428417006:30, 13640000:31, 84114007:32, 368009:33, 251259000:34, 49260003:35,\n",
        "                  251120003:36, 713426002:37, 251200008:38, 425419005:39, 704997005:40, 426995002:41,\n",
        "                  251164006:42, 426648003:43, 425623009:44, 445118002:45, 253352002:46, 67741000119109:47,\n",
        "                  446813000:48, 39732003:49, 164909002:50, 445211001:51, 164873001:52, 370365005:53,\n",
        "                  251146004:54, 54016002:55, 164865005:56, 164861001:57, 698252002:58, 428750005:59,\n",
        "                  164867002:60, 10370003:61, 251182009:62, 282825002:63, 67198005:64, 425856008:65,\n",
        "                  284470004:66, 427172004:67, 17338001:68, 164947007:69, 111975006:70, 164917005:71,\n",
        "                  164921003:72, 314208002:73, 253339007:74, 446358003:75, 47665007:76, 59118001:77,\n",
        "                  89792004:78, 55930002:79, 49578007:80, 65778007:81, 427393009:82, 426177001:83,\n",
        "                  60423000:84, 426783006:85, 427084000:86, 429622005:87, 164931005:88, 164930006:89,\n",
        "                  251168009:90, 63593006:91, 426761007:92, 251139008:93, 164934002:94, 59931005:95,\n",
        "                  266257000:96, 164937009:97, 11157007:98, 164884008:99, 75532003:100, 81898007:101,\n",
        "                  164896001:102, 111288001:103, 266249003:104, 251266004:105, 195060002:106, 164895002:107,\n",
        "                  251180001:108, 195101003:109, 74390002:110}\n",
        " \n",
        "def convertCatToLabel(y):\n",
        "  #labels = np.zeros((1, 111), dtype=np.int64)\n",
        "  labels = np.zeros((1, 27), dtype=np.int64)\n",
        "  for i in range(y.shape[1]):\n",
        "    if y[0,i] in tabla.keys():                #Si la patología es una de las 27 pongo a 1 la misma en el vector de 27 componentes\n",
        "      labels[0,tabla[int(y[0,i])]]=1\n",
        "    #labels[0,tabla_completa[int(y[0,i])]]=1\n",
        "  return labels\n",
        " \n",
        " \n",
        "class ECG_Dataset_same2(Dataset):\n",
        " \n",
        "  def __init__(self):\n",
        "    # data loading\n",
        "    path = '/content/drive/MyDrive/TFG/Tensores_procesados_CPS_1_6_2021'\n",
        "    # Generamos lista iterable de ficheros\n",
        "    files = []\n",
        "    with open('/content/drive/MyDrive/TFG/Tensores_procesados_CPS_1_6_2021/NombresFicheros.txt', 'r') as texto:\n",
        "      lines = texto.readlines()\n",
        "      for l in lines:\n",
        "        as_list = l.split(\"\\n\")\n",
        "        files.append(as_list[0])\n",
        "        \n",
        "      #print(files)\n",
        "    \n",
        "    x_list = []\n",
        "    y_list = []\n",
        "    \n",
        "    self.files_list = files  \n",
        "    self.x = x_list\n",
        "    self.y = y_list\n",
        "    self.n_samples = len(files)\n",
        "    \n",
        " \n",
        "  def __getitem__(self, index):\n",
        "    path = '/content/drive/MyDrive/TFG/Tensores_procesados_CPS_1_6_2021'\n",
        "    xy = scipy.io.loadmat(path+'/'+self.files_list[index])\n",
        "    #print(self.files_list[index])\n",
        "    matrices = xy['tensor']\n",
        "    diagnostico = (xy['diagnostico'])\n",
        "    \n",
        "    x_n = matrices        \n",
        "    y_n = convertCatToLabel(diagnostico)\n",
        " \n",
        "    n = 10;                               # numero de ventanas temporales a tomar\n",
        "    t = x_n.shape[1]\n",
        "    \n",
        "    #rep = (n/t)\n",
        "    rep = (t/n)\n",
        "    #print(t, rep)\n",
        "    \n",
        "    if rep>=1:                            # Si tengo suficientes ventanas las cojo\n",
        "      if n==t:\n",
        "        ind= 0\n",
        "      else:\n",
        "        ind = np.random.randint(0, t-n)   # Podríamos haber cogido un trozo de la señal especialmente significativo, en vez de aleatorio\n",
        "      \n",
        "      #print(\"Cojo tramo de \"+str(ind)+\" hasta \"+str(ind+n))\n",
        "      return x_n[:, ind:ind+n, :], y_n\n",
        " \n",
        "    else:                                 # Si no hay suficientes tengo que concatenar datos repetidos\n",
        "      #print(\"Hay que concatenar\")\n",
        "      res = x_n\n",
        "      #print(\"Tamaño inicial: \"+ str(res.shape[1]))\n",
        "      while (res.shape[1]<=n):\n",
        "        #print(\"Entro al while\")\n",
        "        res = np.concatenate((x_n, res), axis=1)\n",
        "        #print(\"NUEVO Tamaño tensor: \"+ str(res.shape[1]))\n",
        "      #print(res.shape[1])\n",
        "      #print(n)\n",
        "      ind = np.random.randint(0, res.shape[1]-n)\n",
        "      return res[:, ind:ind+n,:] , y_n\n",
        " \n",
        " \n",
        "    \n",
        " \n",
        "  def __len__(self):\n",
        "    return self.n_samples\n",
        " \n",
        " \n",
        "dataset = ECG_Dataset_same2()\n",
        "dataloader = DataLoader(dataset=dataset, batch_size=4, shuffle=True, num_workers=2)\n",
        " \n",
        "dataIterator = iter(dataloader)\n",
        "data = dataIterator.next()    \n",
        "features, labels = data\n",
        "print(features.shape, labels.shape)\n",
        "fig = plt.figure(figsize=(10, 4))\n",
        "fig.add_subplot(1, 2, 1)\n",
        "plt.imshow(features[0,0,:,:])\n",
        "plt.axis(\"tight\")\n",
        "fig.add_subplot(1,2,2)\n",
        "plt.imshow(features[0,12,:,:])\n",
        "plt.axis(\"tight\")\n",
        "print(labels[0,0,:])"
      ],
      "execution_count": 2,
      "outputs": [
        {
          "output_type": "stream",
          "text": [
            "torch.Size([4, 15, 10, 750]) torch.Size([4, 1, 27])\n",
            "tensor([1, 0, 0, 0, 0, 0, 0, 0, 0, 0, 0, 0, 0, 0, 0, 0, 0, 0, 0, 0, 0, 0, 0, 0,\n",
            "        0, 0, 0])\n"
          ],
          "name": "stdout"
        },
        {
          "output_type": "display_data",
          "data": {
            "image/png": "[encoded data removed]",
            "text/plain": [
              "<Figure size 720x288 with 2 Axes>"
            ]
          },
          "metadata": {
            "tags": [],
            "needs_background": "light"
          }
        }
      ]
    },
    {
      "cell_type": "code",
      "metadata": {
        "colab": {
          "base_uri": "https://localhost:8080/"
        },
        "id": "nY60HOLOXAqt",
        "outputId": "50ebd7b9-dd29-4e82-f35e-b35a0956ad4f"
      },
      "source": [
        "!nvidia-smi"
      ],
      "execution_count": null,
      "outputs": [
        {
          "output_type": "stream",
          "text": [
            "Tue Jun  8 20:22:32 2021       \n",
            "+-----------------------------------------------------------------------------+\n",
            "| NVIDIA-SMI 465.27       Driver Version: 460.32.03    CUDA Version: 11.2     |\n",
            "|-------------------------------+----------------------+----------------------+\n",
            "| GPU  Name        Persistence-M| Bus-Id        Disp.A | Volatile Uncorr. ECC |\n",
            "| Fan  Temp  Perf  Pwr:Usage/Cap|         Memory-Usage | GPU-Util  Compute M. |\n",
            "|                               |                      |               MIG M. |\n",
            "|===============================+======================+======================|\n",
            "|   0  Tesla T4            Off  | 00000000:00:04.0 Off |                    0 |\n",
            "| N/A   37C    P8     9W /  70W |      0MiB / 15109MiB |      0%      Default |\n",
            "|                               |                      |                  N/A |\n",
            "+-------------------------------+----------------------+----------------------+\n",
            "                                                                               \n",
            "+-----------------------------------------------------------------------------+\n",
            "| Processes:                                                                  |\n",
            "|  GPU   GI   CI        PID   Type   Process name                  GPU Memory |\n",
            "|        ID   ID                                                   Usage      |\n",
            "|=============================================================================|\n",
            "|  No running processes found                                                 |\n",
            "+-----------------------------------------------------------------------------+\n"
          ],
          "name": "stdout"
        }
      ]
    },
    {
      "cell_type": "code",
      "metadata": {
        "colab": {
          "base_uri": "https://localhost:8080/"
        },
        "id": "86zst11TSmb-",
        "outputId": "95c7ae1f-ae85-42d6-b0da-8473ae7b62aa"
      },
      "source": [
        "# Primer modelo sencillo de red con 3 capas convolucionales y 3 lineales.       Batch de dimensiones 32x15xHx750\n",
        "import numpy as np\n",
        "import torch.nn.functional as F\n",
        "import torch\n",
        " \n",
        "class CardioNet3C3L(torch.nn.Module):\n",
        "  def __init__(self):\n",
        "    super(CardioNet3C3L, self).__init__()\n",
        "    self.conv1 = torch.nn.Conv2d(15,32, kernel_size=5, padding=2, stride=(1, 4))\n",
        "    self.batchN1 = torch.nn.BatchNorm2d(32)\n",
        "    self.conv2 = torch.nn.Conv2d(32,64, kernel_size=5, padding=2, stride=(1, 4))\n",
        "    self.batchN2 = torch.nn.BatchNorm2d(64)\n",
        "    self.conv3 = torch.nn.Conv2d(64,128, kernel_size=3, padding=1, stride=(2, 4))\n",
        "    self.batchN3 = torch.nn.BatchNorm2d(128)\n",
        "\n",
        "    self.drop = torch.nn.Dropout(0.5)\n",
        "\n",
        "    self.lin1 = torch.nn.Linear(128*12, 512, bias=True)\n",
        "    self.batchN4 = torch.nn.BatchNorm1d(512)\n",
        "    self.lin2 = torch.nn.Linear(512, 27, bias=True)\n",
        "    self.batchN5 = torch.nn.BatchNorm1d(27)\n",
        " \n",
        "  def forward(self, x):\n",
        "    x = F.relu(self.batchN1(self.conv1(x)))\n",
        "    #print(x.shape)\n",
        "    x = F.relu(self.batchN2(self.conv2(x)))\n",
        "    #print(x.shape)\n",
        "    x = F.relu(self.batchN3(self.conv3(x)))\n",
        "    #print(x.shape)\n",
        "    x = torch.mean(x, 2)                # Elimino la dimensión de las ventanas con un average pooling\n",
        "    x = self.drop(x)\n",
        "    #print(x.shape)\n",
        "    x = torch.reshape(x, (32, 128*12))  # Elimino la última dimensión con un reshape\n",
        "    #print(x.shape)\n",
        "    x = F.relu(self.batchN4(self.lin1(x)))    \n",
        "    #print(x.shape)\n",
        "    x = self.batchN5(self.lin2(x))\n",
        "    \n",
        "    #x = torch.sigmoid(x)    # Previa a la sigmoide\n",
        "    return x\n",
        "  def predict(self, x):\n",
        "    x = F.relu(self.batchN1(self.conv1(x)))\n",
        "    x = F.relu(self.batchN2(self.conv2(x)))\n",
        "    x = F.relu(self.batchN3(self.conv3(x)))\n",
        "    x = torch.mean(x, 2)                # Elimino la dimensión de las ventanas con un average pooling\n",
        "    x = self.drop(x)\n",
        "    x = torch.reshape(x, (32, 128*12))  # Elimino la última dimensión con un reshape\n",
        "    x = F.relu(self.batchN4(self.lin1(x)))    \n",
        "    x = self.batchN5(self.lin2(x))\n",
        "    x = torch.sigmoid(x)\n",
        "    return x\n",
        "    \n",
        "model = CardioNet3C3L()\n",
        "J = torch.nn.BCEWithLogitsLoss()\n",
        "np_tensor = np.random.random((32,15,10,750))\n",
        "tensor_prueba = torch.tensor(np_tensor, dtype=torch.float32)\n",
        "print(tensor_prueba.shape)\n",
        "o = model(tensor_prueba)\n",
        "print(o.shape)"
      ],
      "execution_count": 4,
      "outputs": [
        {
          "output_type": "stream",
          "text": [
            "torch.Size([32, 15, 10, 750])\n",
            "torch.Size([32, 27])\n"
          ],
          "name": "stdout"
        }
      ]
    },
    {
      "cell_type": "code",
      "metadata": {
        "id": "GR1NiKu0hckb"
      },
      "source": [
        "# Intento de utilizar la red con el dataloader para hacer un pequeño entrenamiento\n",
        "import matplotlib.pyplot as plt\n",
        " \n",
        "device = torch.device(\"cuda\" if torch.cuda.is_available() else \"cpu\")\n",
        "model = CardioNet3C3L()\n",
        "optim = torch.optim.Adam(model.parameters(), lr=0.0001)\n",
        "J = torch.nn.BCEWithLogitsLoss()\n",
        "dataset = ECG_Dataset_same2()"
      ],
      "execution_count": 5,
      "outputs": []
    },
    {
      "cell_type": "code",
      "metadata": {
        "id": "5kLRwU4vmKch"
      },
      "source": [
        "\n",
        "dataloader = DataLoader(dataset=dataset, batch_size=32, shuffle=True, num_workers=2, drop_last=True)\n",
        "dataIterator = iter(dataloader)\n",
        "model.zero_grad()\n",
        "model.to(device)\n",
        " \n",
        "epochs = 100      # Para garantizar coger mas de 6877 ficheros (pero no garantizo que no repita, o que alguno nunca lo coja??)\n",
        "costes = []\n",
        "costes_epoch = []\n",
        "for epoch in range(epochs):\n",
        "  print('Epoch: '+ str(epoch))\n",
        "  costes_epoch = []\n",
        "  dataIterator = iter(dataloader)\n",
        "  for features, labels in dataIterator:\n",
        "    features = features.to(device)\n",
        "    o = model(features)\n",
        "    #print(o.shape)\n",
        "    y = torch.reshape(labels,(32,27))\n",
        "    y = torch.tensor(y, device = device, dtype=torch.float32)\n",
        "    coste = J(y,o)\n",
        "    model.zero_grad()\n",
        "    coste.backward()\n",
        "    optim.step()\n",
        "    costes_epoch.append(coste.cpu())\n",
        "    print(coste.cpu())\n",
        "  coste_epoch = torch.mean(costes_epoch)\n",
        "  print(epoch, coste_epoch)\n",
        "  costes.append(coste_epoch)"
      ],
      "execution_count": null,
      "outputs": []
    },
    {
      "cell_type": "code",
      "metadata": {
        "id": "TVB6bkZzwF-I"
      },
      "source": [
        "# Guardamos modelo\n",
        "\n",
        "torch.save(model.state_dict(), path)\n"
      ],
      "execution_count": null,
      "outputs": []
    },
    {
      "cell_type": "code",
      "metadata": {
        "colab": {
          "base_uri": "https://localhost:8080/"
        },
        "id": "ZLa-QQeVZT5P",
        "outputId": "4cba754d-1387-421b-959a-6031c9abe6d0"
      },
      "source": [
        "# Para cargar modelo usaríamos \n",
        "path = '/content/drive/MyDrive/TFG/Modelos/model_0'\n",
        "model.load_state_dict(torch.load(path))"
      ],
      "execution_count": 6,
      "outputs": [
        {
          "output_type": "execute_result",
          "data": {
            "text/plain": [
              "<All keys matched successfully>"
            ]
          },
          "metadata": {
            "tags": []
          },
          "execution_count": 6
        }
      ]
    },
    {
      "cell_type": "code",
      "metadata": {
        "id": "xgj5wyRX8_Rn",
        "colab": {
          "base_uri": "https://localhost:8080/",
          "height": 297
        },
        "outputId": "3fe5830c-55a1-43f5-e43e-61e842008c9b"
      },
      "source": [
        "plt.plot(costes)\n",
        "plt.title('Coste por batch')"
      ],
      "execution_count": null,
      "outputs": [
        {
          "output_type": "execute_result",
          "data": {
            "text/plain": [
              "Text(0.5, 1.0, 'Coste por batch')"
            ]
          },
          "metadata": {
            "tags": []
          },
          "execution_count": 12
        },
        {
          "output_type": "display_data",
          "data": {
            "image/png": "[encoded data removed]",
            "text/plain": [
              "<Figure size 432x288 with 1 Axes>"
            ]
          },
          "metadata": {
            "tags": [],
            "needs_background": "light"
          }
        }
      ]
    },
    {
      "cell_type": "code",
      "metadata": {
        "colab": {
          "base_uri": "https://localhost:8080/"
        },
        "id": "SQo3T7T81GVb",
        "outputId": "b7ff9b2b-9ea2-462e-8163-e1cf5248c8fd"
      },
      "source": [
        "# Probamos red\n",
        "dataset = ECG_Dataset_same2()\n",
        "dataloader = DataLoader(dataset=dataset, batch_size=32, shuffle=True, num_workers=2)\n",
        "\n",
        "dataIterator = iter(dataloader)\n",
        "data = dataIterator.next()    \n",
        "features, labels = data\n",
        "o = model.predict(features)\n",
        "print(o[0,0:].detach())\n",
        "print(labels[0,0:])"
      ],
      "execution_count": 11,
      "outputs": [
        {
          "output_type": "stream",
          "text": [
            "tensor([0.7266, 0.9524, 0.3444, 0.3705, 0.4013, 0.3632, 0.5051, 0.1231, 0.6715,\n",
            "        0.8008, 0.1556, 0.5238, 0.7005, 0.3331, 0.4058, 0.3253, 0.7085, 0.1831,\n",
            "        0.9999, 0.2871, 0.9164, 0.6291, 0.0813, 0.2869, 0.7386, 0.3237, 0.6351])\n",
            "tensor([[0, 0, 0, 0, 0, 0, 0, 0, 0, 0, 0, 0, 0, 0, 0, 0, 0, 0, 1, 0, 0, 0, 0, 0,\n",
            "         0, 0, 0]])\n"
          ],
          "name": "stdout"
        }
      ]
    }
  ]
}